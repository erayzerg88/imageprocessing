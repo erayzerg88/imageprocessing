{
  "cells": [
    {
      "cell_type": "markdown",
      "metadata": {},
      "source": "# Image Processing Final Project\nThis notebook includes solutions to all 6 problems using Python and OpenCV."
    },
    {
      "cell_type": "code",
      "execution_count": null,
      "metadata": {},
      "outputs": [],
      "source": "import cv2\nimport numpy as np\nimport matplotlib.pyplot as plt\nimport random\n\ndef show(image, title='', cmap='gray'):\n    plt.imshow(image, cmap=cmap)\n    plt.title(title)\n    plt.axis('off')\n    plt.show()"
    },
    {
      "cell_type": "markdown",
      "metadata": {},
      "source": "## Problem 1"
    },
    {
      "cell_type": "code",
      "execution_count": null,
      "metadata": {},
      "outputs": [],
      "source": "img = cv2.imread('tf2_engineer.jpg')\nimg_rgb = cv2.cvtColor(img, cv2.COLOR_BGR2RGB)\nshow(img_rgb, \"Original Image\", cmap=None)\n\nh, w, _ = img.shape\nyc, xc = h // 2, w // 2\nprint(f\"Center coordinates: ({yc}, {xc}) - Pixel: {img[yc, xc]}\")\n\ncolor_patch = (168, 158, 50)  # #329ea8 in BGR\ncv2.rectangle(img, (xc-20, yc-15), (xc+20, yc+15), color_patch, -1)\n\nprint(f\"Pixel at center of patch (BGR): {img[yc, xc]}\")\nshow(cv2.cvtColor(img, cv2.COLOR_BGR2RGB), \"Image with Color Patch\", cmap=None)"
    },
    {
      "cell_type": "markdown",
      "metadata": {},
      "source": "## Problem 2"
    },
    {
      "cell_type": "code",
      "execution_count": null,
      "metadata": {},
      "outputs": [],
      "source": "img = cv2.imread('einstein.tiff', 0)\nshow(img, \"Original Image\")\n\nnegative = 255 - img\nshow(negative, \"Negative Image\")\n\nprint(\"Random 5 pixel values:\")\nfor _ in range(5):\n    y = random.randint(0, img.shape[0]-1)\n    x = random.randint(0, img.shape[1]-1)\n    print(f\"({y}, {x}) -> Original: {img[y, x]}, Negative: {negative[y, x]}\")"
    },
    {
      "cell_type": "markdown",
      "metadata": {},
      "source": "## Problem 3"
    },
    {
      "cell_type": "code",
      "execution_count": null,
      "metadata": {},
      "outputs": [],
      "source": "img = cv2.imread('pout.tiff', 0)\nshow(img, \"Original Image\")\n\nlog_trans = (np.log1p(img)).astype(np.float32)\nlog_trans = cv2.normalize(log_trans, None, 0, 255, cv2.NORM_MINMAX).astype(np.uint8)\nshow(log_trans, \"Log Transform\")\n\ninv_log_trans = (np.expm1(img / 255 * np.log(256))).astype(np.uint8)\nshow(inv_log_trans, \"Inverse Log Transform (Original Image)\")\n\ninv_back = (np.expm1(log_trans / 255 * np.log(256))).astype(np.uint8)\nshow(inv_back, \"Inverse of Log-Transformed Image\")\n\nprint(\"Log transform enhances darker regions. Inverse of log-transformed image does not perfectly match original.\")"
    },
    {
      "cell_type": "markdown",
      "metadata": {},
      "source": "## Problem 4"
    },
    {
      "cell_type": "code",
      "execution_count": null,
      "metadata": {},
      "outputs": [],
      "source": "img = cv2.imread('moon.tiff', 0)\nshow(img, \"Original Image\")\n\nblurred = cv2.GaussianBlur(img, (9, 9), 10)\nmask = cv2.subtract(img, blurred)\n\nfor k in [0.2, 0.5, 1.0]:\n    sharpened = cv2.addWeighted(img, 1.0, mask, k, 0)\n    show(sharpened, f\"Spatial Unsharp Masking (k={k})\")"
    },
    {
      "cell_type": "code",
      "execution_count": null,
      "metadata": {},
      "outputs": [],
      "source": "def high_pass_filter(shape, D0):\n    u = np.arange(-shape[0]//2, shape[0]//2)\n    v = np.arange(-shape[1]//2, shape[1]//2)\n    U, V = np.meshgrid(u, v, indexing='ij')\n    D = np.sqrt(U**2 + V**2)\n    H = 1 - np.exp(-(D**2) / (2*(D0**2)))\n    return H\n\nimg = cv2.imread('moon.tiff', 0)\nf = np.fft.fftshift(np.fft.fft2(img))\n\nH = high_pass_filter(img.shape, 30)\nfor k in [0.2, 0.5, 1.0]:\n    G = (1 + k * H) * f\n    g = np.fft.ifft2(np.fft.ifftshift(G))\n    g = np.abs(g)\n    g = cv2.normalize(g, None, 0, 255, cv2.NORM_MINMAX).astype(np.uint8)\n    show(g, f\"Frequency Domain Unsharp Masking (k={k})\")"
    },
    {
      "cell_type": "markdown",
      "metadata": {},
      "source": "## Problem 5"
    },
    {
      "cell_type": "code",
      "execution_count": null,
      "metadata": {},
      "outputs": [],
      "source": "img = cv2.imread('pcb.tiff', 0)\nshow(img, \"Original Image\")\n\nhist = cv2.calcHist([img], [0], None, [256], [0,256])\nplt.plot(hist), plt.title(\"Histogram\"), plt.show()\n\nmedian = cv2.medianBlur(img, 3)\nshow(median, \"Median Filtered\")\n\ngaussian = cv2.GaussianBlur(median, (3,3), 1)\nshow(gaussian, \"Median + Gaussian Filtered\")"
    },
    {
      "cell_type": "markdown",
      "metadata": {},
      "source": "## Problem 6"
    },
    {
      "cell_type": "code",
      "execution_count": null,
      "metadata": {},
      "outputs": [],
      "source": "img = cv2.imread('pollen.tiff', 0)\nshow(img, \"Original Image\")\n\nhist = cv2.calcHist([img], [0], None, [256], [0,256])\nplt.plot(hist), plt.title(\"Histogram\"), plt.show()\n\n# Histogram Equalization\nequalized = cv2.equalizeHist(img)\nshow(equalized, \"Histogram Equalized\")\n\n# CLAHE (Adaptive)\nclahe = cv2.createCLAHE(clipLimit=2.0, tileGridSize=(8,8))\nadaptive_eq = clahe.apply(img)\nshow(adaptive_eq, \"CLAHE Result\")"
    }
  ],
  "metadata": {
    "kernelspec": {
      "display_name": "Python 3",
      "language": "python",
      "name": "python3"
    },
    "language_info": {
      "name": "python",
      "version": "3.10"
    }
  },
  "nbformat": 4,
  "nbformat_minor": 5
}